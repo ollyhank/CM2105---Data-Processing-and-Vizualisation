{
 "cells": [
  {
   "cell_type": "code",
   "execution_count": 1,
   "metadata": {},
   "outputs": [
    {
     "name": "stdout",
     "output_type": "stream",
     "text": [
      "Populating the interactive namespace from numpy and matplotlib\n",
      "                      Mean  Minimum  Maximum  Standard Deviation\n",
      "Teen Birth Rate      41.50       15       77               14.67\n",
      "Violent Crime Rate  409.59      127      809              167.44\n",
      "Percentage Smokers   16.92       11       21                2.39\n",
      "\n",
      " 95% confidence interval for percentage smokers: 16.34, 17.51\n",
      "\n",
      "\n",
      "We can see that confidence interval is quite narrow, this indicates that the data is\n",
      "not too varied and generally close to the mean with 95% of all results falling within the 16.34 - 17.51\n",
      "boundaries.\n"
     ]
    }
   ],
   "source": [
    "# CELL1 – 10 marks\n",
    "################################################################################################################################\n",
    "#  libraries needed for the coursework\n",
    "%pylab inline\n",
    "import pandas as pd\n",
    "from pandas import Series, DataFrame\n",
    "from scipy import stats\n",
    "import statsmodels.api as sm\n",
    "import csv\n",
    "################################################################################################################################\n",
    "rawdata = pd.read_csv(\"2017health.txt\", sep='\\t')\n",
    "headers = list(rawdata.columns)[3:]\n",
    "data = pd.DataFrame(columns=[\"Mean\", \"Minimum\", \"Maximum\", \"Standard Deviation\"])\n",
    "\n",
    "means = []\n",
    "mins = []\n",
    "maxs = []\n",
    "sds = []\n",
    "\n",
    "for items in headers:\n",
    "    means.append(rawdata[items].mean())\n",
    "    mins.append(rawdata[items].min())\n",
    "    maxs.append(rawdata[items].max())\n",
    "    sds.append(rawdata[items].std())\n",
    "\n",
    "data[\"Mean\"] = [round(x, 2) for x in means]\n",
    "data[\"Minimum\"] = [round(x, 2) for x in mins]\n",
    "data[\"Maximum\"] = [round(x, 2) for x in maxs]\n",
    "data[\"Standard Deviation\"] = [round(x, 2) for x in sds]\n",
    "#data.round(decimals = 2)\n",
    "data.index = ['Teen Birth Rate', 'Violent Crime Rate', 'Percentage Smokers']\n",
    "\n",
    "print(data)\n",
    "int95 = stats.t.interval(0.95, len(rawdata[\"Percentage Smokers\"])-1, loc=np.mean(rawdata[\"Percentage Smokers\"]), scale=stats.sem(rawdata[\"Percentage Smokers\"]))\n",
    "int95 = [round(x, 2) for x in int95]\n",
    "\n",
    "print(\"\\n 95% confidence interval for percentage smokers: \", end='')\n",
    "print(*int95, sep=', ')\n",
    "print(\"\"\"\\n\\nWe can see that confidence interval is quite narrow, this indicates that the data is\n",
    "not too varied and generally close to the mean with 95% of all results falling within the 16.34 - 17.51\n",
    "boundaries.\"\"\")\n"
   ]
  },
  {
   "cell_type": "code",
   "execution_count": 2,
   "metadata": {},
   "outputs": [
    {
     "data": {
      "image/png": "[encoded data removed]",
      "text/plain": [
       "<Figure size 432x288 with 1 Axes>"
      ]
     },
     "metadata": {
      "needs_background": "light"
     },
     "output_type": "display_data"
    }
   ],
   "source": [
    "# CELL2 – 10 marks\n",
    "north_counties = [\"Duval\", \"Alachua\", \"Leon\", \"Flagler\", \"Marion\"]\n",
    "central_counties = [\"Orange\", \"Polk\", \"Hillsborough\", \"Pinellas\", \"Brevard\"]\n",
    "south_counties = [\"Miami-Dade\", \"Broward\", \"Lee\", \"Palm Beach\", \"Sarasota\"]\n",
    "north_values, central_values, south_values = [], [], []\n",
    "\n",
    "for rows in rawdata.index:\n",
    "    if rawdata['County'][rows] in north_counties:\n",
    "        north_values.append(rawdata['Years of Potential Life Lost Rate'][rows])\n",
    "    if rawdata['County'][rows] in central_counties:\n",
    "        central_values.append(rawdata['Years of Potential Life Lost Rate'][rows])\n",
    "    if rawdata['County'][rows] in south_counties:\n",
    "        south_values.append(rawdata['Years of Potential Life Lost Rate'][rows])\n",
    "\n",
    "\n",
    "q2 = pd.DataFrame({\"North\" : north_values, \"Central\" : central_values, \"South\" : south_values})\n",
    "q2.loc['Mean'] = q2.mean()\n",
    "\n",
    "north_conf = stats.t.interval(0.95, len(q2[\"North\"])-1, loc=np.mean(q2[\"North\"]), scale=stats.sem(q2[\"North\"]))\n",
    "central_conf = stats.t.interval(0.95, len(q2[\"Central\"])-1, loc=np.mean(q2[\"Central\"]), scale=stats.sem(q2[\"Central\"]))\n",
    "south_conf = stats.t.interval(0.95, len(q2[\"South\"])-1, loc=np.mean(q2[\"South\"]), scale=stats.sem(q2[\"South\"]))\n",
    "\n",
    "conf_int = [north_conf[0], north_conf[1], central_conf[0], central_conf[1], south_conf[0], south_conf[1]]\n",
    "conf_int = [round(x, 2) for x in conf_int]\n",
    "\n",
    "q2.loc['Upper 95% Conf'] = conf_int[1::2]\n",
    "q2.loc['Lower 95% Conf'] = conf_int[0::2]\n",
    "\n",
    "x_axis = [(str(col) + \" Florida\") for col in q2.columns]\n",
    "y_axis = q2.loc[\"Mean\"].tolist()\n",
    "interval = q2.loc['Upper 95% Conf'].tolist()\n",
    "interval = [round(abs(interval[i] - y_axis[i]), 2) for i in range(len(interval))]\n",
    "\n",
    "plt.ylabel(\"Years of Potential Life Lost Rate\")\n",
    "plt.xlabel(\"Region\")\n",
    "plt.yticks(range(4000, 10000,1000))\n",
    "ylim(4000,9000)\n",
    "plt.bar(x_axis, y_axis, yerr=interval, capsize = 12, edgecolor='black')\n",
    "plt.show()"
   ]
  },
  {
   "cell_type": "code",
   "execution_count": 3,
   "metadata": {},
   "outputs": [
    {
     "name": "stdout",
     "output_type": "stream",
     "text": [
      "The linear regression model formed from TBR and PS to calculate the YPLLR is as follows:\n",
      "YPLLR = 225.19 * Teen Birth Rate + 36.09 * Percentage Smokers + 2503.14\n",
      "\n",
      "Model A MAE =  948.46\n",
      "Model B MAE =  1219.42\n",
      "\n",
      "We can see from testing the mean absolute error of both tests that model A is a more accurate\n",
      "equation to estimate the YPLLR at an average of 948.46. \n",
      "This could be caused either by the values assigned to the equation or the use of TBR statistics instead of VCR.\n"
     ]
    }
   ],
   "source": [
    "# CELL3 – 10 marks\n",
    "predictors = rawdata[[\"Teen Birth Rate\", \"Percentage Smokers\"]]\n",
    "ypllr = rawdata['Years of Potential Life Lost Rate']\n",
    "predictors = sm.add_constant(predictors)\n",
    "results=sm.OLS(ypllr, predictors).fit()\n",
    "resultparams = results.params\n",
    "\n",
    "print(\"The linear regression model formed from TBR and PS to calculate the YPLLR is as follows:\")\n",
    "eq = \"YPLLR = \" + str(round(resultparams[2], 2)) + \" * Teen Birth Rate + \" + str(round(resultparams[1], 2)) + \" * Percentage Smokers + \" + str(round(resultparams[0], 2))\n",
    "print(eq)\n",
    "\n",
    "modela = 60.6 * rawdata[\"Teen Birth Rate\"] + 5297.06\n",
    "modelb = 1.36 * rawdata[\"Violent Crime Rate\"] + 7254.3\n",
    "pred = 225.19 * rawdata[\"Teen Birth Rate\"] + 36.09 * rawdata[\"Percentage Smokers\"] + 2503.14\n",
    "test = abs(pred - ypllr)\n",
    "\n",
    "#pred_ypllr = 225.19*rawdata[\"Teen Birth Rate\"] + 36.09 * rawdata[\"Percentage Smokers\"] + 2503.14\n",
    "aerror = abs(modela - ypllr)\n",
    "AMAE = mean(aerror)\n",
    "\n",
    "berror = abs(modelb - ypllr)\n",
    "BMAE = mean(berror)\n",
    "\n",
    "print('\\nModel A MAE = ', round(AMAE,2))\n",
    "print('Model B MAE = ', round(BMAE,2))\n",
    "\n",
    "print(\"\"\"\\nWe can see from testing the mean absolute error of both tests that model A is a more accurate\n",
    "equation to estimate the YPLLR at an average of 948.46. \n",
    "This could be caused either by the values assigned to the equation or the use of TBR statistics instead of VCR.\"\"\")"
   ]
  },
  {
   "cell_type": "code",
   "execution_count": 4,
   "metadata": {},
   "outputs": [
    {
     "name": "stdout",
     "output_type": "stream",
     "text": [
      "The Euclidian distance of: 29704.27 shows us that there is a sizeable difference in the colour values inside and outside the region of interest, meaning they are not that alike.\n"
     ]
    },
    {
     "data": {
      "image/png": "[encoded data removed]",
      "text/plain": [
       "<Figure size 576x432 with 1 Axes>"
      ]
     },
     "metadata": {
      "needs_background": "light"
     },
     "output_type": "display_data"
    }
   ],
   "source": [
    "# CELL4 – 10 marks\n",
    "images = []\n",
    "for i in range(1, 11):\n",
    "    img = imread('Model/' + 'm' + str(i) + '.png')*255\n",
    "    images.append(img)\n",
    "\n",
    "m1 = images[0]\n",
    "inside = []\n",
    "outside = []\n",
    "\n",
    "l = 512\n",
    "c = 256\n",
    "r = 150\n",
    "\n",
    "for x in range(l):\n",
    "    for y in range(l):\n",
    "        distance = np.sqrt((c - x)**2 + (c - y)**2)\n",
    "        if distance <= r:\n",
    "            inside.append(int(m1[x][y]))\n",
    "        else:\n",
    "            outside.append(int(m1[x][y]))\n",
    "\n",
    "plt.figure(figsize=(8,6))\n",
    "plt.hist(outside, bins=256, alpha=0.5, label=\"Outside ROI\")\n",
    "plt.hist(inside, bins=256, alpha=0.5, label=\"Inside ROI\")\n",
    "plt.xlabel(\"Inensity\", size=14)\n",
    "plt.ylabel(\"Count\", size=14)\n",
    "plt.title(\"Image Pixel Intensity\")\n",
    "plt.legend(loc='upper right')\n",
    "\n",
    "a = np.zeros(256)\n",
    "b = np.zeros(256)\n",
    "\n",
    "for pix in inside:\n",
    "    a[pix] += 1\n",
    "for pix in outside:\n",
    "    b[pix] += 1\n",
    "\n",
    "def euclid(a, b):\n",
    "    acc = 0\n",
    "    for x, y in zip(a, b):\n",
    "        acc += (x - y)**2\n",
    "    \n",
    "    return np.sqrt(acc)\n",
    "\n",
    "d = euclid(a, b)\n",
    "print(f\"The Euclidian distance of: {round(d, 2)} shows us that there is a sizeable difference in the colour values inside and outside the region of interest, meaning they are not that alike.\")"
   ]
  },
  {
   "cell_type": "code",
   "execution_count": 5,
   "metadata": {},
   "outputs": [
    {
     "name": "stdout",
     "output_type": "stream",
     "text": [
      "Pearson linear correlation coeefficient: 0.81\n",
      "We can see that there is a strong positive correlation between the image quality and the overall intensity of the pixel at the ROI size of 150.\n"
     ]
    },
    {
     "data": {
      "image/png": "[encoded data removed]",
      "text/plain": [
       "<Figure size 432x288 with 1 Axes>"
      ]
     },
     "metadata": {
      "needs_background": "light"
     },
     "output_type": "display_data"
    }
   ],
   "source": [
    "# CELL5 – 10 marks\n",
    "    \n",
    "def roi(r, image):\n",
    "    l = 512\n",
    "    c = 256\n",
    "    roi = []\n",
    "    for x in range(l):\n",
    "        for y in range(l):\n",
    "            distance = np.sqrt((c - x)**2 + (c - y)**2)\n",
    "            if distance <= r:\n",
    "                roi.append(int(image[x][y]))\n",
    "    \n",
    "    return roi\n",
    "\n",
    "def avg(l):\n",
    "    return(sum(l)/len(l))\n",
    "'''\n",
    "image_rois = []\n",
    "\n",
    "for i in range(len(images)):\n",
    "    image_rois.append({'IMG' : (i + 1), 'IQ': (10-i), 50: round(avg(roi(50, images[i])), 2), 100 : round(avg(roi(100, images[i])), 2), 150 : round(avg(roi(150, images[i])), 2), 200 : round(avg(roi(200, images[i])), 2), 250 : round(avg(roi(250, images[i])), 2)})\n",
    "'''\n",
    "\n",
    "image_rois = [{'IMG': 1, 'IQ': 10, 50: 207.03, 100: 206.45, 150: 185.31, 200: 173.64, 250: 169.93},{'IMG': 2, 'IQ': 9, 50: 204.12, 100: 203.42, 150: 180.98, 200: 168.57, 250: 164.65},{'IMG': 3, 'IQ': 8, 50: 201.7, 100: 200.9, 150: 177.43, 200: 164.39, 250: 160.29},{'IMG': 4, 'IQ': 7, 50: 201.78, 100: 200.78, 150: 176.87, 200: 163.51, 250: 159.34},{'IMG': 5, 'IQ': 6, 50: 201.86, 100: 200.61, 150: 176.28, 200: 162.57, 250: 158.34},{'IMG': 6, 'IQ': 5, 50: 202.2, 100: 200.68, 150: 176.05, 200: 162.04, 250: 157.77},{'IMG': 7, 'IQ': 4, 50: 203.7, 100: 201.91, 150: 177.0, 200: 162.68, 250: 158.38},{'IMG': 8, 'IQ': 3, 50: 203.82, 100: 201.73, 150: 176.4, 200: 161.68, 250: 157.33},{'IMG': 9, 'IQ': 2, 50: 203.98, 100: 201.51, 150: 175.78, 200: 160.64, 250: 156.23},{'IMG': 10, 'IQ': 1, 50: 203.03, 100: 200.25, 150: 174.23, 200: 158.74, 250: 154.29}]\n",
    "\n",
    "each_rois = [ [] for _ in range(6) ]\n",
    "\n",
    "for row in image_rois:\n",
    "    each_rois[0].append(row['IQ'])\n",
    "    each_rois[1].append(row[50])\n",
    "    each_rois[2].append(row[100])\n",
    "    each_rois[3].append(row[150])\n",
    "    each_rois[4].append(row[200])\n",
    "    each_rois[5].append(row[250])\n",
    "\n",
    "results = []\n",
    "for items in each_rois[1:]:\n",
    "    results.append(stats.pearsonr(each_rois[0], items))\n",
    "\n",
    "print(\"Pearson linear correlation coeefficient: \" + str(round(results[2][0], 2)))\n",
    "print(\"We can see that there is a strong positive correlation between the image quality and the overall intensity of the pixel at the ROI size of 150.\")\n",
    "\n",
    "y = [round(corr[0], 2) for corr in results]\n",
    "x = [50, 100, 150, 200, 250]\n",
    "plt.plot(x,y, marker='o')\n",
    "plt.title('Correlation of Pixel Intensity in ROI with Image Quality')\n",
    "plt.xlabel('Correlation')\n",
    "plt.xticks(np.arange(min(x), max(x)+1, 50))\n",
    "plt.ylabel('Size of Region of Interest (ROI)')\n",
    "plt.show()"
   ]
  },
  {
   "cell_type": "code",
   "execution_count": 6,
   "metadata": {},
   "outputs": [
    {
     "data": {
      "text/plain": [
       "'\\nfrom q3\\npredictors = sm.add_constant(predictors)\\nresults=sm.OLS(ypllr, predictors).fit()\\nresultparams = results.params\\n'"
      ]
     },
     "execution_count": 6,
     "metadata": {},
     "output_type": "execute_result"
    }
   ],
   "source": [
    "# CELL6 – 10 marks\n",
    "'''\n",
    "from q3\n",
    "predictors = sm.add_constant(predictors)\n",
    "results=sm.OLS(ypllr, predictors).fit()\n",
    "resultparams = results.params\n",
    "'''\n"
   ]
  },
  {
   "cell_type": "code",
   "execution_count": 7,
   "metadata": {},
   "outputs": [
    {
     "name": "stdout",
     "output_type": "stream",
     "text": [
      "1.7.2\n"
     ]
    }
   ],
   "source": [
    "import scipy\n",
    "print(scipy.__version__)"
   ]
  }
 ],
 "metadata": {
  "kernelspec": {
   "display_name": "Python 3 (ipykernel)",
   "language": "python",
   "name": "python3"
  },
  "language_info": {
   "codemirror_mode": {
    "name": "ipython",
    "version": 3
   },
   "file_extension": ".py",
   "mimetype": "text/x-python",
   "name": "python",
   "nbconvert_exporter": "python",
   "pygments_lexer": "ipython3",
   "version": "3.8.0"
  }
 },
 "nbformat": 4,
 "nbformat_minor": 4
}
